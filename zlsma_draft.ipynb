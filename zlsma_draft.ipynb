{
 "cells": [
  {
   "cell_type": "markdown",
   "id": "abstract-cooking",
   "metadata": {},
   "source": [
    "## Python porting of ZLSMA - Zero Lag LSMA by veryfid"
   ]
  },
  {
   "cell_type": "markdown",
   "id": "charming-platinum",
   "metadata": {},
   "source": [
    "<https://ru.tradingview.com/script/3LGnSrQN-ZLSMA-Zero-Lag-LSMA/>"
   ]
  },
  {
   "cell_type": "markdown",
   "id": "inappropriate-looking",
   "metadata": {},
   "source": [
    ">Developed by [@edyatl](https://github.com/edyatl) January 2023 <edyatl@yandex.ru>"
   ]
  },
  {
   "cell_type": "code",
   "execution_count": 1,
   "id": "correct-gibraltar",
   "metadata": {},
   "outputs": [
    {
     "data": {
      "application/javascript": [
       "\n",
       "            setTimeout(function() {\n",
       "                var nbb_cell_id = 1;\n",
       "                var nbb_unformatted_code = \"# Load Jupyter extension for auto correction coding style based on Black Lib\\n%load_ext nb_black\";\n",
       "                var nbb_formatted_code = \"# Load Jupyter extension for auto correction coding style based on Black Lib\\n%load_ext nb_black\";\n",
       "                var nbb_cells = Jupyter.notebook.get_cells();\n",
       "                for (var i = 0; i < nbb_cells.length; ++i) {\n",
       "                    if (nbb_cells[i].input_prompt_number == nbb_cell_id) {\n",
       "                        if (nbb_cells[i].get_text() == nbb_unformatted_code) {\n",
       "                             nbb_cells[i].set_text(nbb_formatted_code);\n",
       "                        }\n",
       "                        break;\n",
       "                    }\n",
       "                }\n",
       "            }, 500);\n",
       "            "
      ],
      "text/plain": [
       "<IPython.core.display.Javascript object>"
      ]
     },
     "metadata": {},
     "output_type": "display_data"
    }
   ],
   "source": [
    "# Load Jupyter extension for auto correction coding style based on Black Lib\n",
    "%load_ext nb_black"
   ]
  },
  {
   "cell_type": "code",
   "execution_count": 2,
   "id": "conservative-broadcast",
   "metadata": {},
   "outputs": [
    {
     "data": {
      "application/javascript": [
       "\n",
       "            setTimeout(function() {\n",
       "                var nbb_cell_id = 2;\n",
       "                var nbb_unformatted_code = \"# Standard imports\\nimport pandas as pd\\nimport numpy as np\\nimport matplotlib.pyplot as plt\\nimport seaborn as sns\\nimport pandas_ta as ta\\nimport talib as tl\\n\\n# from sklearn.linear_model import LinearRegression\\n\\n# Nicest style for plots\\nsns.set(style=\\\"ticks\\\")\";\n",
       "                var nbb_formatted_code = \"# Standard imports\\nimport pandas as pd\\nimport numpy as np\\nimport matplotlib.pyplot as plt\\nimport seaborn as sns\\nimport pandas_ta as ta\\nimport talib as tl\\n\\n# from sklearn.linear_model import LinearRegression\\n\\n# Nicest style for plots\\nsns.set(style=\\\"ticks\\\")\";\n",
       "                var nbb_cells = Jupyter.notebook.get_cells();\n",
       "                for (var i = 0; i < nbb_cells.length; ++i) {\n",
       "                    if (nbb_cells[i].input_prompt_number == nbb_cell_id) {\n",
       "                        if (nbb_cells[i].get_text() == nbb_unformatted_code) {\n",
       "                             nbb_cells[i].set_text(nbb_formatted_code);\n",
       "                        }\n",
       "                        break;\n",
       "                    }\n",
       "                }\n",
       "            }, 500);\n",
       "            "
      ],
      "text/plain": [
       "<IPython.core.display.Javascript object>"
      ]
     },
     "metadata": {},
     "output_type": "display_data"
    }
   ],
   "source": [
    "# Standard imports\n",
    "import pandas as pd\n",
    "import numpy as np\n",
    "import matplotlib.pyplot as plt\n",
    "import seaborn as sns\n",
    "import pandas_ta as ta\n",
    "import talib as tl\n",
    "\n",
    "# from sklearn.linear_model import LinearRegression\n",
    "\n",
    "# Nicest style for plots\n",
    "sns.set(style=\"ticks\")"
   ]
  },
  {
   "cell_type": "markdown",
   "id": "restricted-equilibrium",
   "metadata": {},
   "source": [
    "### Original Indicator code\n",
    "\n",
    "```python\n",
    "study(title = \"ZLSMA - Zero Lag LSMA\", shorttitle=\"ZLSMA\", overlay=true, resolution=\"\")\n",
    "length = input(title=\"Length\", type=input.integer, defval=32)\n",
    "offset = input(title=\"Offset\", type=input.integer, defval=0)\n",
    "src = input(close, title=\"Source\")\n",
    "lsma = linreg(src, length, offset)\n",
    "lsma2 = linreg(lsma, length, offset)\n",
    "eq= lsma-lsma2\n",
    "zlsma = lsma+eq\n",
    "\n",
    "plot(zlsma, color=color.yellow, linewidth=3)\n",
    "```"
   ]
  },
  {
   "cell_type": "markdown",
   "id": "interesting-fiction",
   "metadata": {},
   "source": [
    "**formula:** `linreg = intercept + slope * (length - 1 - offset)`\n",
    "\n",
    "`linreg(source, length, offset) → series[float]`\n",
    "\n",
    "where \n",
    "* **length** is the y argument, \n",
    "* **offset** is the z argument, \n",
    "* **intercept** and **slope** are the values calculated with the least squares method on source series (x argument)"
   ]
  },
  {
   "cell_type": "markdown",
   "id": "handled-claim",
   "metadata": {},
   "source": [
    "Download [Dataset](https://data.binance.vision/?prefix=data/spot/daily/klines/BTCUSDT/) from Binance and unzip"
   ]
  },
  {
   "cell_type": "code",
   "execution_count": 3,
   "id": "bulgarian-saturn",
   "metadata": {},
   "outputs": [
    {
     "data": {
      "application/javascript": [
       "\n",
       "            setTimeout(function() {\n",
       "                var nbb_cell_id = 3;\n",
       "                var nbb_unformatted_code = \"dataset_path = \\\"../\\\"\\ncol_names = [\\n    \\\"Open time\\\",\\n    \\\"Open\\\",\\n    \\\"High\\\",\\n    \\\"Low\\\",\\n    \\\"Close\\\",\\n    \\\"Volume\\\",\\n    \\\"Close time\\\",\\n    \\\"Quote asset volume\\\",\\n    \\\"Number of trades\\\",\\n    \\\"Taker buy base asset volume\\\",\\n    \\\"Taker buy quote asset volume\\\",\\n    \\\"Ignore\\\",\\n]\\n\\nshort_col_names = [\\n    \\\"open_time\\\",\\n    \\\"open\\\",\\n    \\\"high\\\",\\n    \\\"low\\\",\\n    \\\"close\\\",\\n    \\\"volume\\\",\\n    \\\"close_time\\\",\\n    \\\"qav\\\",\\n    \\\"num_trades\\\",\\n    \\\"taker_base_vol\\\",\\n    \\\"taker_quote_vol\\\",\\n    \\\"ignore\\\",\\n]\";\n",
       "                var nbb_formatted_code = \"dataset_path = \\\"../\\\"\\ncol_names = [\\n    \\\"Open time\\\",\\n    \\\"Open\\\",\\n    \\\"High\\\",\\n    \\\"Low\\\",\\n    \\\"Close\\\",\\n    \\\"Volume\\\",\\n    \\\"Close time\\\",\\n    \\\"Quote asset volume\\\",\\n    \\\"Number of trades\\\",\\n    \\\"Taker buy base asset volume\\\",\\n    \\\"Taker buy quote asset volume\\\",\\n    \\\"Ignore\\\",\\n]\\n\\nshort_col_names = [\\n    \\\"open_time\\\",\\n    \\\"open\\\",\\n    \\\"high\\\",\\n    \\\"low\\\",\\n    \\\"close\\\",\\n    \\\"volume\\\",\\n    \\\"close_time\\\",\\n    \\\"qav\\\",\\n    \\\"num_trades\\\",\\n    \\\"taker_base_vol\\\",\\n    \\\"taker_quote_vol\\\",\\n    \\\"ignore\\\",\\n]\";\n",
       "                var nbb_cells = Jupyter.notebook.get_cells();\n",
       "                for (var i = 0; i < nbb_cells.length; ++i) {\n",
       "                    if (nbb_cells[i].input_prompt_number == nbb_cell_id) {\n",
       "                        if (nbb_cells[i].get_text() == nbb_unformatted_code) {\n",
       "                             nbb_cells[i].set_text(nbb_formatted_code);\n",
       "                        }\n",
       "                        break;\n",
       "                    }\n",
       "                }\n",
       "            }, 500);\n",
       "            "
      ],
      "text/plain": [
       "<IPython.core.display.Javascript object>"
      ]
     },
     "metadata": {},
     "output_type": "display_data"
    }
   ],
   "source": [
    "dataset_path = \"../\"\n",
    "col_names = [\n",
    "    \"Open time\",\n",
    "    \"Open\",\n",
    "    \"High\",\n",
    "    \"Low\",\n",
    "    \"Close\",\n",
    "    \"Volume\",\n",
    "    \"Close time\",\n",
    "    \"Quote asset volume\",\n",
    "    \"Number of trades\",\n",
    "    \"Taker buy base asset volume\",\n",
    "    \"Taker buy quote asset volume\",\n",
    "    \"Ignore\",\n",
    "]\n",
    "\n",
    "short_col_names = [\n",
    "    \"open_time\",\n",
    "    \"open\",\n",
    "    \"high\",\n",
    "    \"low\",\n",
    "    \"close\",\n",
    "    \"volume\",\n",
    "    \"close_time\",\n",
    "    \"qav\",\n",
    "    \"num_trades\",\n",
    "    \"taker_base_vol\",\n",
    "    \"taker_quote_vol\",\n",
    "    \"ignore\",\n",
    "]"
   ]
  },
  {
   "cell_type": "code",
   "execution_count": 4,
   "id": "broadband-forward",
   "metadata": {},
   "outputs": [
    {
     "data": {
      "application/javascript": [
       "\n",
       "            setTimeout(function() {\n",
       "                var nbb_cell_id = 4;\n",
       "                var nbb_unformatted_code = \"# Load Dataset\\ndf1 = pd.read_csv(\\n    dataset_path + \\\"BTCUSDT-15m-2023-01-19.csv\\\",\\n    names=col_names,\\n)\\ndf2 = pd.read_csv(\\n    dataset_path + \\\"BTCUSDT-15m-2023-01-20.csv\\\",\\n    names=col_names,\\n)\\ndata = pd.concat([df1, df2], ignore_index=True)\";\n",
       "                var nbb_formatted_code = \"# Load Dataset\\ndf1 = pd.read_csv(\\n    dataset_path + \\\"BTCUSDT-15m-2023-01-19.csv\\\",\\n    names=col_names,\\n)\\ndf2 = pd.read_csv(\\n    dataset_path + \\\"BTCUSDT-15m-2023-01-20.csv\\\",\\n    names=col_names,\\n)\\ndata = pd.concat([df1, df2], ignore_index=True)\";\n",
       "                var nbb_cells = Jupyter.notebook.get_cells();\n",
       "                for (var i = 0; i < nbb_cells.length; ++i) {\n",
       "                    if (nbb_cells[i].input_prompt_number == nbb_cell_id) {\n",
       "                        if (nbb_cells[i].get_text() == nbb_unformatted_code) {\n",
       "                             nbb_cells[i].set_text(nbb_formatted_code);\n",
       "                        }\n",
       "                        break;\n",
       "                    }\n",
       "                }\n",
       "            }, 500);\n",
       "            "
      ],
      "text/plain": [
       "<IPython.core.display.Javascript object>"
      ]
     },
     "metadata": {},
     "output_type": "display_data"
    }
   ],
   "source": [
    "# Load Dataset\n",
    "df1 = pd.read_csv(\n",
    "    dataset_path + \"BTCUSDT-15m-2023-01-19.csv\",\n",
    "    names=col_names,\n",
    ")\n",
    "df2 = pd.read_csv(\n",
    "    dataset_path + \"BTCUSDT-15m-2023-01-20.csv\",\n",
    "    names=col_names,\n",
    ")\n",
    "data = pd.concat([df1, df2], ignore_index=True)"
   ]
  },
  {
   "cell_type": "code",
   "execution_count": 5,
   "id": "touched-cycle",
   "metadata": {
    "scrolled": true
   },
   "outputs": [
    {
     "data": {
      "text/html": [
       "<div>\n",
       "<style scoped>\n",
       "    .dataframe tbody tr th:only-of-type {\n",
       "        vertical-align: middle;\n",
       "    }\n",
       "\n",
       "    .dataframe tbody tr th {\n",
       "        vertical-align: top;\n",
       "    }\n",
       "\n",
       "    .dataframe thead th {\n",
       "        text-align: right;\n",
       "    }\n",
       "</style>\n",
       "<table border=\"1\" class=\"dataframe\">\n",
       "  <thead>\n",
       "    <tr style=\"text-align: right;\">\n",
       "      <th></th>\n",
       "      <th>Open time</th>\n",
       "      <th>Open</th>\n",
       "      <th>High</th>\n",
       "      <th>Low</th>\n",
       "      <th>Close</th>\n",
       "      <th>Volume</th>\n",
       "      <th>Close time</th>\n",
       "      <th>Quote asset volume</th>\n",
       "      <th>Number of trades</th>\n",
       "      <th>Taker buy base asset volume</th>\n",
       "      <th>Taker buy quote asset volume</th>\n",
       "      <th>Ignore</th>\n",
       "    </tr>\n",
       "  </thead>\n",
       "  <tbody>\n",
       "    <tr>\n",
       "      <th>0</th>\n",
       "      <td>2023-01-19 00:00:00</td>\n",
       "      <td>20677.47</td>\n",
       "      <td>20741.35</td>\n",
       "      <td>20660.15</td>\n",
       "      <td>20729.35</td>\n",
       "      <td>3420.32260</td>\n",
       "      <td>2023-01-19 00:14:59.999</td>\n",
       "      <td>7.083480e+07</td>\n",
       "      <td>80834</td>\n",
       "      <td>1756.96631</td>\n",
       "      <td>3.638896e+07</td>\n",
       "      <td>0</td>\n",
       "    </tr>\n",
       "    <tr>\n",
       "      <th>1</th>\n",
       "      <td>2023-01-19 00:15:00</td>\n",
       "      <td>20728.52</td>\n",
       "      <td>20764.64</td>\n",
       "      <td>20673.84</td>\n",
       "      <td>20709.14</td>\n",
       "      <td>2525.09524</td>\n",
       "      <td>2023-01-19 00:29:59.999</td>\n",
       "      <td>5.232198e+07</td>\n",
       "      <td>66226</td>\n",
       "      <td>1261.56974</td>\n",
       "      <td>2.614169e+07</td>\n",
       "      <td>0</td>\n",
       "    </tr>\n",
       "    <tr>\n",
       "      <th>2</th>\n",
       "      <td>2023-01-19 00:30:00</td>\n",
       "      <td>20709.14</td>\n",
       "      <td>20742.67</td>\n",
       "      <td>20686.42</td>\n",
       "      <td>20720.82</td>\n",
       "      <td>2394.79397</td>\n",
       "      <td>2023-01-19 00:44:59.999</td>\n",
       "      <td>4.962184e+07</td>\n",
       "      <td>66651</td>\n",
       "      <td>1259.91730</td>\n",
       "      <td>2.610639e+07</td>\n",
       "      <td>0</td>\n",
       "    </tr>\n",
       "    <tr>\n",
       "      <th>3</th>\n",
       "      <td>2023-01-19 00:45:00</td>\n",
       "      <td>20721.69</td>\n",
       "      <td>20741.19</td>\n",
       "      <td>20684.05</td>\n",
       "      <td>20694.01</td>\n",
       "      <td>2150.11042</td>\n",
       "      <td>2023-01-19 00:59:59.999</td>\n",
       "      <td>4.452688e+07</td>\n",
       "      <td>59372</td>\n",
       "      <td>1060.16417</td>\n",
       "      <td>2.195617e+07</td>\n",
       "      <td>0</td>\n",
       "    </tr>\n",
       "    <tr>\n",
       "      <th>4</th>\n",
       "      <td>2023-01-19 01:00:00</td>\n",
       "      <td>20694.64</td>\n",
       "      <td>20731.43</td>\n",
       "      <td>20676.32</td>\n",
       "      <td>20726.39</td>\n",
       "      <td>1959.56324</td>\n",
       "      <td>2023-01-19 01:14:59.999</td>\n",
       "      <td>4.058144e+07</td>\n",
       "      <td>58444</td>\n",
       "      <td>1039.81729</td>\n",
       "      <td>2.153480e+07</td>\n",
       "      <td>0</td>\n",
       "    </tr>\n",
       "    <tr>\n",
       "      <th>...</th>\n",
       "      <td>...</td>\n",
       "      <td>...</td>\n",
       "      <td>...</td>\n",
       "      <td>...</td>\n",
       "      <td>...</td>\n",
       "      <td>...</td>\n",
       "      <td>...</td>\n",
       "      <td>...</td>\n",
       "      <td>...</td>\n",
       "      <td>...</td>\n",
       "      <td>...</td>\n",
       "      <td>...</td>\n",
       "    </tr>\n",
       "    <tr>\n",
       "      <th>187</th>\n",
       "      <td>2023-01-20 22:45:00</td>\n",
       "      <td>22629.08</td>\n",
       "      <td>22690.76</td>\n",
       "      <td>22556.00</td>\n",
       "      <td>22595.08</td>\n",
       "      <td>3791.66301</td>\n",
       "      <td>2023-01-20 22:59:59.999</td>\n",
       "      <td>8.572384e+07</td>\n",
       "      <td>90185</td>\n",
       "      <td>1681.39467</td>\n",
       "      <td>3.801848e+07</td>\n",
       "      <td>0</td>\n",
       "    </tr>\n",
       "    <tr>\n",
       "      <th>188</th>\n",
       "      <td>2023-01-20 23:00:00</td>\n",
       "      <td>22593.98</td>\n",
       "      <td>22650.62</td>\n",
       "      <td>22537.80</td>\n",
       "      <td>22648.96</td>\n",
       "      <td>3891.32550</td>\n",
       "      <td>2023-01-20 23:14:59.999</td>\n",
       "      <td>8.801160e+07</td>\n",
       "      <td>75206</td>\n",
       "      <td>1893.54990</td>\n",
       "      <td>4.283335e+07</td>\n",
       "      <td>0</td>\n",
       "    </tr>\n",
       "    <tr>\n",
       "      <th>189</th>\n",
       "      <td>2023-01-20 23:15:00</td>\n",
       "      <td>22648.96</td>\n",
       "      <td>22755.93</td>\n",
       "      <td>22608.21</td>\n",
       "      <td>22650.41</td>\n",
       "      <td>5524.89511</td>\n",
       "      <td>2023-01-20 23:29:59.999</td>\n",
       "      <td>1.252638e+08</td>\n",
       "      <td>109538</td>\n",
       "      <td>2769.01849</td>\n",
       "      <td>6.278607e+07</td>\n",
       "      <td>0</td>\n",
       "    </tr>\n",
       "    <tr>\n",
       "      <th>190</th>\n",
       "      <td>2023-01-20 23:30:00</td>\n",
       "      <td>22650.44</td>\n",
       "      <td>22678.36</td>\n",
       "      <td>22590.00</td>\n",
       "      <td>22675.44</td>\n",
       "      <td>3523.71216</td>\n",
       "      <td>2023-01-20 23:44:59.999</td>\n",
       "      <td>7.975246e+07</td>\n",
       "      <td>82408</td>\n",
       "      <td>1680.24467</td>\n",
       "      <td>3.803244e+07</td>\n",
       "      <td>0</td>\n",
       "    </tr>\n",
       "    <tr>\n",
       "      <th>191</th>\n",
       "      <td>2023-01-20 23:45:00</td>\n",
       "      <td>22674.15</td>\n",
       "      <td>22704.96</td>\n",
       "      <td>22639.00</td>\n",
       "      <td>22667.21</td>\n",
       "      <td>2735.08432</td>\n",
       "      <td>2023-01-20 23:59:59.999</td>\n",
       "      <td>6.200904e+07</td>\n",
       "      <td>61347</td>\n",
       "      <td>1460.67626</td>\n",
       "      <td>3.311757e+07</td>\n",
       "      <td>0</td>\n",
       "    </tr>\n",
       "  </tbody>\n",
       "</table>\n",
       "<p>192 rows × 12 columns</p>\n",
       "</div>"
      ],
      "text/plain": [
       "              Open time      Open      High       Low     Close      Volume  \\\n",
       "0   2023-01-19 00:00:00  20677.47  20741.35  20660.15  20729.35  3420.32260   \n",
       "1   2023-01-19 00:15:00  20728.52  20764.64  20673.84  20709.14  2525.09524   \n",
       "2   2023-01-19 00:30:00  20709.14  20742.67  20686.42  20720.82  2394.79397   \n",
       "3   2023-01-19 00:45:00  20721.69  20741.19  20684.05  20694.01  2150.11042   \n",
       "4   2023-01-19 01:00:00  20694.64  20731.43  20676.32  20726.39  1959.56324   \n",
       "..                  ...       ...       ...       ...       ...         ...   \n",
       "187 2023-01-20 22:45:00  22629.08  22690.76  22556.00  22595.08  3791.66301   \n",
       "188 2023-01-20 23:00:00  22593.98  22650.62  22537.80  22648.96  3891.32550   \n",
       "189 2023-01-20 23:15:00  22648.96  22755.93  22608.21  22650.41  5524.89511   \n",
       "190 2023-01-20 23:30:00  22650.44  22678.36  22590.00  22675.44  3523.71216   \n",
       "191 2023-01-20 23:45:00  22674.15  22704.96  22639.00  22667.21  2735.08432   \n",
       "\n",
       "                 Close time  Quote asset volume  Number of trades  \\\n",
       "0   2023-01-19 00:14:59.999        7.083480e+07             80834   \n",
       "1   2023-01-19 00:29:59.999        5.232198e+07             66226   \n",
       "2   2023-01-19 00:44:59.999        4.962184e+07             66651   \n",
       "3   2023-01-19 00:59:59.999        4.452688e+07             59372   \n",
       "4   2023-01-19 01:14:59.999        4.058144e+07             58444   \n",
       "..                      ...                 ...               ...   \n",
       "187 2023-01-20 22:59:59.999        8.572384e+07             90185   \n",
       "188 2023-01-20 23:14:59.999        8.801160e+07             75206   \n",
       "189 2023-01-20 23:29:59.999        1.252638e+08            109538   \n",
       "190 2023-01-20 23:44:59.999        7.975246e+07             82408   \n",
       "191 2023-01-20 23:59:59.999        6.200904e+07             61347   \n",
       "\n",
       "     Taker buy base asset volume  Taker buy quote asset volume  Ignore  \n",
       "0                     1756.96631                  3.638896e+07       0  \n",
       "1                     1261.56974                  2.614169e+07       0  \n",
       "2                     1259.91730                  2.610639e+07       0  \n",
       "3                     1060.16417                  2.195617e+07       0  \n",
       "4                     1039.81729                  2.153480e+07       0  \n",
       "..                           ...                           ...     ...  \n",
       "187                   1681.39467                  3.801848e+07       0  \n",
       "188                   1893.54990                  4.283335e+07       0  \n",
       "189                   2769.01849                  6.278607e+07       0  \n",
       "190                   1680.24467                  3.803244e+07       0  \n",
       "191                   1460.67626                  3.311757e+07       0  \n",
       "\n",
       "[192 rows x 12 columns]"
      ]
     },
     "execution_count": 5,
     "metadata": {},
     "output_type": "execute_result"
    },
    {
     "data": {
      "application/javascript": [
       "\n",
       "            setTimeout(function() {\n",
       "                var nbb_cell_id = 5;\n",
       "                var nbb_unformatted_code = \"data[\\\"Open time\\\"] = pd.to_datetime(data[\\\"Open time\\\"], unit=\\\"ms\\\")\\ndata[\\\"Close time\\\"] = pd.to_datetime(data[\\\"Close time\\\"], unit=\\\"ms\\\")\\ndata\";\n",
       "                var nbb_formatted_code = \"data[\\\"Open time\\\"] = pd.to_datetime(data[\\\"Open time\\\"], unit=\\\"ms\\\")\\ndata[\\\"Close time\\\"] = pd.to_datetime(data[\\\"Close time\\\"], unit=\\\"ms\\\")\\ndata\";\n",
       "                var nbb_cells = Jupyter.notebook.get_cells();\n",
       "                for (var i = 0; i < nbb_cells.length; ++i) {\n",
       "                    if (nbb_cells[i].input_prompt_number == nbb_cell_id) {\n",
       "                        if (nbb_cells[i].get_text() == nbb_unformatted_code) {\n",
       "                             nbb_cells[i].set_text(nbb_formatted_code);\n",
       "                        }\n",
       "                        break;\n",
       "                    }\n",
       "                }\n",
       "            }, 500);\n",
       "            "
      ],
      "text/plain": [
       "<IPython.core.display.Javascript object>"
      ]
     },
     "metadata": {},
     "output_type": "display_data"
    }
   ],
   "source": [
    "data[\"Open time\"] = pd.to_datetime(data[\"Open time\"], unit=\"ms\")\n",
    "data[\"Close time\"] = pd.to_datetime(data[\"Close time\"], unit=\"ms\")\n",
    "data"
   ]
  },
  {
   "cell_type": "code",
   "execution_count": 6,
   "id": "naked-enclosure",
   "metadata": {},
   "outputs": [
    {
     "data": {
      "application/javascript": [
       "\n",
       "            setTimeout(function() {\n",
       "                var nbb_cell_id = 6;\n",
       "                var nbb_unformatted_code = \"length: int = 32  # 32\\noffset: int = 10\\nsrc: pd.Series = data[\\\"Close\\\"]\\n# data[[\\\"Open time\\\", \\\"Close time\\\"]].tail(10)\";\n",
       "                var nbb_formatted_code = \"length: int = 32  # 32\\noffset: int = 10\\nsrc: pd.Series = data[\\\"Close\\\"]\\n# data[[\\\"Open time\\\", \\\"Close time\\\"]].tail(10)\";\n",
       "                var nbb_cells = Jupyter.notebook.get_cells();\n",
       "                for (var i = 0; i < nbb_cells.length; ++i) {\n",
       "                    if (nbb_cells[i].input_prompt_number == nbb_cell_id) {\n",
       "                        if (nbb_cells[i].get_text() == nbb_unformatted_code) {\n",
       "                             nbb_cells[i].set_text(nbb_formatted_code);\n",
       "                        }\n",
       "                        break;\n",
       "                    }\n",
       "                }\n",
       "            }, 500);\n",
       "            "
      ],
      "text/plain": [
       "<IPython.core.display.Javascript object>"
      ]
     },
     "metadata": {},
     "output_type": "display_data"
    }
   ],
   "source": [
    "length: int = 32  # 32\n",
    "offset: int = 10\n",
    "src: pd.Series = data[\"Close\"]\n",
    "# data[[\"Open time\", \"Close time\"]].tail(10)"
   ]
  },
  {
   "cell_type": "markdown",
   "id": "dried-silence",
   "metadata": {},
   "source": [
    "### Using linreg from repo [Pandas TA - A Technical Analysis Library in Python 3](https://github.com/twopirllc/pandas-ta)"
   ]
  },
  {
   "cell_type": "code",
   "execution_count": 7,
   "id": "undefined-survival",
   "metadata": {},
   "outputs": [
    {
     "data": {
      "application/javascript": [
       "\n",
       "            setTimeout(function() {\n",
       "                var nbb_cell_id = 7;\n",
       "                var nbb_unformatted_code = \"# The result of the function below occur in fact different from TradingView :(\\ndef linreg_ta(src, length=None, offset=None, **kwargs):\\n    \\\"\\\"\\\"Indicator: Linear Regression\\\"\\\"\\\"\\n    # Validate arguments\\n    length = int(length) if length and length > 0 else 14\\n    src = None if src.size < length or not isinstance(src, pd.Series) else src\\n    offset = int(offset) if isinstance(offset, int) else 0\\n    angle = kwargs.pop(\\\"angle\\\", False)\\n    intercept = kwargs.pop(\\\"intercept\\\", False)\\n    degrees = kwargs.pop(\\\"degrees\\\", False)\\n    r = kwargs.pop(\\\"r\\\", False)\\n    slope = kwargs.pop(\\\"slope\\\", False)\\n    tsf = kwargs.pop(\\\"tsf\\\", False)\\n\\n    if src is None: return\\n\\n    # Calculate Result\\n    x = range(1, length + 1)  # [1, 2, ..., n] from 1 to n keeps Sum(xy) low\\n    x_sum = 0.5 * length * (length + 1)\\n    x2_sum = x_sum * (2 * length + 1) / 3\\n    divisor = length * x2_sum - x_sum * x_sum\\n\\n    def linear_regression(series):\\n        y_sum = series.sum()\\n        xy_sum = (x * series).sum()\\n\\n        m = (length * xy_sum - x_sum * y_sum) / divisor\\n        if slope:\\n            return m\\n        b = (y_sum * x2_sum - x_sum * xy_sum) / divisor\\n        if intercept:\\n            return b\\n\\n        if angle:\\n            theta = np.arctan(m)\\n            if degrees:\\n                theta *= 180 / np.pi\\n            return theta\\n\\n        if r:\\n            y2_sum = (series * series).sum()\\n            rn = length * xy_sum - x_sum * y_sum\\n            rd = (divisor * (length * y2_sum - y_sum * y_sum)) ** 0.5\\n            return rn / rd\\n\\n        return m * length + b if tsf else m * (length - 1) + b\\n\\n    def rolling_window(array, length):\\n        \\\"\\\"\\\"https://github.com/twopirllc/pandas-ta/issues/285\\\"\\\"\\\"\\n        strides = array.strides + (array.strides[-1],)\\n        shape = array.shape[:-1] + (array.shape[-1] - length + 1, length)\\n        return as_strided(array, shape=shape, strides=strides)\\n\\n    if np.version.version >= \\\"1.20.0\\\":\\n        from numpy.lib.stride_tricks import sliding_window_view\\n        linreg_ = [linear_regression(_) for _ in sliding_window_view(np.array(src), length)]\\n    else:\\n        from numpy.lib.stride_tricks import as_strided\\n        linreg_ = [linear_regression(_) for _ in rolling_window(np.array(src), length)]\\n\\n    linreg = pd.Series([np.nan] * (length - 1) + linreg_, index=src.index)\\n\\n    # Offset\\n    if offset != 0:\\n        linreg = linreg.shift(offset)\\n\\n    # Handle fills\\n    if \\\"fillna\\\" in kwargs:\\n        linreg.fillna(kwargs[\\\"fillna\\\"], inplace=True)\\n    if \\\"fill_method\\\" in kwargs:\\n        linreg.fillna(method=kwargs[\\\"fill_method\\\"], inplace=True)\\n\\n    # Name and Categorize it\\n    linreg.name = f\\\"LR\\\"\\n    if slope: linreg.name += \\\"m\\\"\\n    if intercept: linreg.name += \\\"b\\\"\\n    if angle: linreg.name += \\\"a\\\"\\n    if r: linreg.name += \\\"r\\\"\\n\\n    linreg.name += f\\\"_{length}\\\"\\n    linreg.category = \\\"overlap\\\"\\n\\n    return linreg\";\n",
       "                var nbb_formatted_code = \"# The result of the function below occur in fact different from TradingView :(\\ndef linreg_ta(src, length=None, offset=None, **kwargs):\\n    \\\"\\\"\\\"Indicator: Linear Regression\\\"\\\"\\\"\\n    # Validate arguments\\n    length = int(length) if length and length > 0 else 14\\n    src = None if src.size < length or not isinstance(src, pd.Series) else src\\n    offset = int(offset) if isinstance(offset, int) else 0\\n    angle = kwargs.pop(\\\"angle\\\", False)\\n    intercept = kwargs.pop(\\\"intercept\\\", False)\\n    degrees = kwargs.pop(\\\"degrees\\\", False)\\n    r = kwargs.pop(\\\"r\\\", False)\\n    slope = kwargs.pop(\\\"slope\\\", False)\\n    tsf = kwargs.pop(\\\"tsf\\\", False)\\n\\n    if src is None:\\n        return\\n\\n    # Calculate Result\\n    x = range(1, length + 1)  # [1, 2, ..., n] from 1 to n keeps Sum(xy) low\\n    x_sum = 0.5 * length * (length + 1)\\n    x2_sum = x_sum * (2 * length + 1) / 3\\n    divisor = length * x2_sum - x_sum * x_sum\\n\\n    def linear_regression(series):\\n        y_sum = series.sum()\\n        xy_sum = (x * series).sum()\\n\\n        m = (length * xy_sum - x_sum * y_sum) / divisor\\n        if slope:\\n            return m\\n        b = (y_sum * x2_sum - x_sum * xy_sum) / divisor\\n        if intercept:\\n            return b\\n\\n        if angle:\\n            theta = np.arctan(m)\\n            if degrees:\\n                theta *= 180 / np.pi\\n            return theta\\n\\n        if r:\\n            y2_sum = (series * series).sum()\\n            rn = length * xy_sum - x_sum * y_sum\\n            rd = (divisor * (length * y2_sum - y_sum * y_sum)) ** 0.5\\n            return rn / rd\\n\\n        return m * length + b if tsf else m * (length - 1) + b\\n\\n    def rolling_window(array, length):\\n        \\\"\\\"\\\"https://github.com/twopirllc/pandas-ta/issues/285\\\"\\\"\\\"\\n        strides = array.strides + (array.strides[-1],)\\n        shape = array.shape[:-1] + (array.shape[-1] - length + 1, length)\\n        return as_strided(array, shape=shape, strides=strides)\\n\\n    if np.version.version >= \\\"1.20.0\\\":\\n        from numpy.lib.stride_tricks import sliding_window_view\\n\\n        linreg_ = [\\n            linear_regression(_) for _ in sliding_window_view(np.array(src), length)\\n        ]\\n    else:\\n        from numpy.lib.stride_tricks import as_strided\\n\\n        linreg_ = [linear_regression(_) for _ in rolling_window(np.array(src), length)]\\n\\n    linreg = pd.Series([np.nan] * (length - 1) + linreg_, index=src.index)\\n\\n    # Offset\\n    if offset != 0:\\n        linreg = linreg.shift(offset)\\n\\n    # Handle fills\\n    if \\\"fillna\\\" in kwargs:\\n        linreg.fillna(kwargs[\\\"fillna\\\"], inplace=True)\\n    if \\\"fill_method\\\" in kwargs:\\n        linreg.fillna(method=kwargs[\\\"fill_method\\\"], inplace=True)\\n\\n    # Name and Categorize it\\n    linreg.name = f\\\"LR\\\"\\n    if slope:\\n        linreg.name += \\\"m\\\"\\n    if intercept:\\n        linreg.name += \\\"b\\\"\\n    if angle:\\n        linreg.name += \\\"a\\\"\\n    if r:\\n        linreg.name += \\\"r\\\"\\n\\n    linreg.name += f\\\"_{length}\\\"\\n    linreg.category = \\\"overlap\\\"\\n\\n    return linreg\";\n",
       "                var nbb_cells = Jupyter.notebook.get_cells();\n",
       "                for (var i = 0; i < nbb_cells.length; ++i) {\n",
       "                    if (nbb_cells[i].input_prompt_number == nbb_cell_id) {\n",
       "                        if (nbb_cells[i].get_text() == nbb_unformatted_code) {\n",
       "                             nbb_cells[i].set_text(nbb_formatted_code);\n",
       "                        }\n",
       "                        break;\n",
       "                    }\n",
       "                }\n",
       "            }, 500);\n",
       "            "
      ],
      "text/plain": [
       "<IPython.core.display.Javascript object>"
      ]
     },
     "metadata": {},
     "output_type": "display_data"
    }
   ],
   "source": [
    "# The result of the function below occur in fact different from TradingView :(\n",
    "def linreg_ta(src, length=None, offset=None, **kwargs):\n",
    "    \"\"\"Indicator: Linear Regression\"\"\"\n",
    "    # Validate arguments\n",
    "    length = int(length) if length and length > 0 else 14\n",
    "    src = None if src.size < length or not isinstance(src, pd.Series) else src\n",
    "    offset = int(offset) if isinstance(offset, int) else 0\n",
    "    angle = kwargs.pop(\"angle\", False)\n",
    "    intercept = kwargs.pop(\"intercept\", False)\n",
    "    degrees = kwargs.pop(\"degrees\", False)\n",
    "    r = kwargs.pop(\"r\", False)\n",
    "    slope = kwargs.pop(\"slope\", False)\n",
    "    tsf = kwargs.pop(\"tsf\", False)\n",
    "\n",
    "    if src is None: return\n",
    "\n",
    "    # Calculate Result\n",
    "    x = range(1, length + 1)  # [1, 2, ..., n] from 1 to n keeps Sum(xy) low\n",
    "    x_sum = 0.5 * length * (length + 1)\n",
    "    x2_sum = x_sum * (2 * length + 1) / 3\n",
    "    divisor = length * x2_sum - x_sum * x_sum\n",
    "\n",
    "    def linear_regression(series):\n",
    "        y_sum = series.sum()\n",
    "        xy_sum = (x * series).sum()\n",
    "\n",
    "        m = (length * xy_sum - x_sum * y_sum) / divisor\n",
    "        if slope:\n",
    "            return m\n",
    "        b = (y_sum * x2_sum - x_sum * xy_sum) / divisor\n",
    "        if intercept:\n",
    "            return b\n",
    "\n",
    "        if angle:\n",
    "            theta = np.arctan(m)\n",
    "            if degrees:\n",
    "                theta *= 180 / np.pi\n",
    "            return theta\n",
    "\n",
    "        if r:\n",
    "            y2_sum = (series * series).sum()\n",
    "            rn = length * xy_sum - x_sum * y_sum\n",
    "            rd = (divisor * (length * y2_sum - y_sum * y_sum)) ** 0.5\n",
    "            return rn / rd\n",
    "\n",
    "        return m * length + b if tsf else m * (length - 1) + b\n",
    "\n",
    "    def rolling_window(array, length):\n",
    "        \"\"\"https://github.com/twopirllc/pandas-ta/issues/285\"\"\"\n",
    "        strides = array.strides + (array.strides[-1],)\n",
    "        shape = array.shape[:-1] + (array.shape[-1] - length + 1, length)\n",
    "        return as_strided(array, shape=shape, strides=strides)\n",
    "\n",
    "    if np.version.version >= \"1.20.0\":\n",
    "        from numpy.lib.stride_tricks import sliding_window_view\n",
    "        linreg_ = [linear_regression(_) for _ in sliding_window_view(np.array(src), length)]\n",
    "    else:\n",
    "        from numpy.lib.stride_tricks import as_strided\n",
    "        linreg_ = [linear_regression(_) for _ in rolling_window(np.array(src), length)]\n",
    "\n",
    "    linreg = pd.Series([np.nan] * (length - 1) + linreg_, index=src.index)\n",
    "\n",
    "    # Offset\n",
    "    if offset != 0:\n",
    "        linreg = linreg.shift(offset)\n",
    "\n",
    "    # Handle fills\n",
    "    if \"fillna\" in kwargs:\n",
    "        linreg.fillna(kwargs[\"fillna\"], inplace=True)\n",
    "    if \"fill_method\" in kwargs:\n",
    "        linreg.fillna(method=kwargs[\"fill_method\"], inplace=True)\n",
    "\n",
    "    # Name and Categorize it\n",
    "    linreg.name = f\"LR\"\n",
    "    if slope: linreg.name += \"m\"\n",
    "    if intercept: linreg.name += \"b\"\n",
    "    if angle: linreg.name += \"a\"\n",
    "    if r: linreg.name += \"r\"\n",
    "\n",
    "    linreg.name += f\"_{length}\"\n",
    "    linreg.category = \"overlap\"\n",
    "\n",
    "    return linreg\n"
   ]
  },
  {
   "cell_type": "markdown",
   "id": "elect-catholic",
   "metadata": {},
   "source": [
    "### Using [Python wrapper](https://github.com/TA-Lib/ta-lib-python) for [TA-LIB](http://ta-lib.org/) based on Cython instead of SWIG."
   ]
  },
  {
   "cell_type": "code",
   "execution_count": 8,
   "id": "greatest-jewelry",
   "metadata": {},
   "outputs": [
    {
     "data": {
      "application/javascript": [
       "\n",
       "            setTimeout(function() {\n",
       "                var nbb_cell_id = 8;\n",
       "                var nbb_unformatted_code = \"def linreg(src: pd.Series, length: int = None, offset: int = None) -> pd.Series:\\n    \\\"\\\"\\\"Indicator: Linear Regression with TA-LIB module\\\"\\\"\\\"\\n    # Validate arguments\\n    src = None if src.size < length or not isinstance(src, pd.Series) else src\\n    length = int(length) if isinstance(length, int) and length > 0 else 32\\n    offset = int(offset) if isinstance(offset, int) else 0\\n\\n    # Offset\\n    if offset != 0:\\n        # linreg = intercept + slope * (length - 1 - offset)\\n        return tl.LINEARREG_INTERCEPT(src, length) + tl.LINEARREG_SLOPE(src, length) * (\\n            length - 1 - offset\\n        )\\n\\n    return tl.LINEARREG(src, length)\";\n",
       "                var nbb_formatted_code = \"def linreg(src: pd.Series, length: int = None, offset: int = None) -> pd.Series:\\n    \\\"\\\"\\\"Indicator: Linear Regression with TA-LIB module\\\"\\\"\\\"\\n    # Validate arguments\\n    src = None if src.size < length or not isinstance(src, pd.Series) else src\\n    length = int(length) if isinstance(length, int) and length > 0 else 32\\n    offset = int(offset) if isinstance(offset, int) else 0\\n\\n    # Offset\\n    if offset != 0:\\n        # linreg = intercept + slope * (length - 1 - offset)\\n        return tl.LINEARREG_INTERCEPT(src, length) + tl.LINEARREG_SLOPE(src, length) * (\\n            length - 1 - offset\\n        )\\n\\n    return tl.LINEARREG(src, length)\";\n",
       "                var nbb_cells = Jupyter.notebook.get_cells();\n",
       "                for (var i = 0; i < nbb_cells.length; ++i) {\n",
       "                    if (nbb_cells[i].input_prompt_number == nbb_cell_id) {\n",
       "                        if (nbb_cells[i].get_text() == nbb_unformatted_code) {\n",
       "                             nbb_cells[i].set_text(nbb_formatted_code);\n",
       "                        }\n",
       "                        break;\n",
       "                    }\n",
       "                }\n",
       "            }, 500);\n",
       "            "
      ],
      "text/plain": [
       "<IPython.core.display.Javascript object>"
      ]
     },
     "metadata": {},
     "output_type": "display_data"
    }
   ],
   "source": [
    "def linreg(src: pd.Series, length: int = None, offset: int = None) -> pd.Series:\n",
    "    \"\"\"Indicator: Linear Regression with TA-LIB module\"\"\"\n",
    "    # Validate arguments\n",
    "    src = None if src.size < length or not isinstance(src, pd.Series) else src\n",
    "    length = int(length) if isinstance(length, int) and length > 0 else 32\n",
    "    offset = int(offset) if isinstance(offset, int) else 0\n",
    "\n",
    "    # Offset\n",
    "    if offset != 0:\n",
    "        # linreg = intercept + slope * (length - 1 - offset)\n",
    "        return tl.LINEARREG_INTERCEPT(src, length) + tl.LINEARREG_SLOPE(src, length) * (\n",
    "            length - 1 - offset\n",
    "        )\n",
    "\n",
    "    return tl.LINEARREG(src, length)"
   ]
  },
  {
   "cell_type": "code",
   "execution_count": 9,
   "id": "unknown-monster",
   "metadata": {},
   "outputs": [
    {
     "data": {
      "text/plain": [
       "182    21656.896472\n",
       "183    21709.794173\n",
       "184    21766.160343\n",
       "185    21829.729960\n",
       "186    21894.186754\n",
       "187    21953.543891\n",
       "188    22013.393286\n",
       "189    22070.348569\n",
       "190    22125.782863\n",
       "191    22177.616754\n",
       "dtype: float64"
      ]
     },
     "execution_count": 9,
     "metadata": {},
     "output_type": "execute_result"
    },
    {
     "data": {
      "application/javascript": [
       "\n",
       "            setTimeout(function() {\n",
       "                var nbb_cell_id = 9;\n",
       "                var nbb_unformatted_code = \"lsma: pd.Series = linreg(src, length, offset)  # ta.linreg(src, length, offset)\\nlsma2: pd.Series = linreg(lsma, length, offset)\\nlsma.tail(10)\";\n",
       "                var nbb_formatted_code = \"lsma: pd.Series = linreg(src, length, offset)  # ta.linreg(src, length, offset)\\nlsma2: pd.Series = linreg(lsma, length, offset)\\nlsma.tail(10)\";\n",
       "                var nbb_cells = Jupyter.notebook.get_cells();\n",
       "                for (var i = 0; i < nbb_cells.length; ++i) {\n",
       "                    if (nbb_cells[i].input_prompt_number == nbb_cell_id) {\n",
       "                        if (nbb_cells[i].get_text() == nbb_unformatted_code) {\n",
       "                             nbb_cells[i].set_text(nbb_formatted_code);\n",
       "                        }\n",
       "                        break;\n",
       "                    }\n",
       "                }\n",
       "            }, 500);\n",
       "            "
      ],
      "text/plain": [
       "<IPython.core.display.Javascript object>"
      ]
     },
     "metadata": {},
     "output_type": "display_data"
    }
   ],
   "source": [
    "lsma: pd.Series = linreg(src, length, offset)  # ta.linreg(src, length, offset)\n",
    "lsma2: pd.Series = linreg(lsma, length, offset)\n",
    "lsma.tail(10)"
   ]
  },
  {
   "cell_type": "code",
   "execution_count": 10,
   "id": "disabled-material",
   "metadata": {},
   "outputs": [
    {
     "data": {
      "text/html": [
       "<div>\n",
       "<style scoped>\n",
       "    .dataframe tbody tr th:only-of-type {\n",
       "        vertical-align: middle;\n",
       "    }\n",
       "\n",
       "    .dataframe tbody tr th {\n",
       "        vertical-align: top;\n",
       "    }\n",
       "\n",
       "    .dataframe thead th {\n",
       "        text-align: right;\n",
       "    }\n",
       "</style>\n",
       "<table border=\"1\" class=\"dataframe\">\n",
       "  <thead>\n",
       "    <tr style=\"text-align: right;\">\n",
       "      <th></th>\n",
       "      <th>Open time</th>\n",
       "      <th>Close time</th>\n",
       "      <th>zlsma</th>\n",
       "    </tr>\n",
       "  </thead>\n",
       "  <tbody>\n",
       "    <tr>\n",
       "      <th>182</th>\n",
       "      <td>2023-01-20 21:30:00</td>\n",
       "      <td>2023-01-20 21:44:59.999</td>\n",
       "      <td>22000.504618</td>\n",
       "    </tr>\n",
       "    <tr>\n",
       "      <th>183</th>\n",
       "      <td>2023-01-20 21:45:00</td>\n",
       "      <td>2023-01-20 21:59:59.999</td>\n",
       "      <td>22075.704480</td>\n",
       "    </tr>\n",
       "    <tr>\n",
       "      <th>184</th>\n",
       "      <td>2023-01-20 22:00:00</td>\n",
       "      <td>2023-01-20 22:14:59.999</td>\n",
       "      <td>22155.729763</td>\n",
       "    </tr>\n",
       "    <tr>\n",
       "      <th>185</th>\n",
       "      <td>2023-01-20 22:15:00</td>\n",
       "      <td>2023-01-20 22:29:59.999</td>\n",
       "      <td>22247.701926</td>\n",
       "    </tr>\n",
       "    <tr>\n",
       "      <th>186</th>\n",
       "      <td>2023-01-20 22:30:00</td>\n",
       "      <td>2023-01-20 22:44:59.999</td>\n",
       "      <td>22339.042077</td>\n",
       "    </tr>\n",
       "    <tr>\n",
       "      <th>187</th>\n",
       "      <td>2023-01-20 22:45:00</td>\n",
       "      <td>2023-01-20 22:59:59.999</td>\n",
       "      <td>22418.205302</td>\n",
       "    </tr>\n",
       "    <tr>\n",
       "      <th>188</th>\n",
       "      <td>2023-01-20 23:00:00</td>\n",
       "      <td>2023-01-20 23:14:59.999</td>\n",
       "      <td>22496.443445</td>\n",
       "    </tr>\n",
       "    <tr>\n",
       "      <th>189</th>\n",
       "      <td>2023-01-20 23:15:00</td>\n",
       "      <td>2023-01-20 23:29:59.999</td>\n",
       "      <td>22567.265257</td>\n",
       "    </tr>\n",
       "    <tr>\n",
       "      <th>190</th>\n",
       "      <td>2023-01-20 23:30:00</td>\n",
       "      <td>2023-01-20 23:44:59.999</td>\n",
       "      <td>22633.613690</td>\n",
       "    </tr>\n",
       "    <tr>\n",
       "      <th>191</th>\n",
       "      <td>2023-01-20 23:45:00</td>\n",
       "      <td>2023-01-20 23:59:59.999</td>\n",
       "      <td>22691.651051</td>\n",
       "    </tr>\n",
       "  </tbody>\n",
       "</table>\n",
       "</div>"
      ],
      "text/plain": [
       "              Open time              Close time         zlsma\n",
       "182 2023-01-20 21:30:00 2023-01-20 21:44:59.999  22000.504618\n",
       "183 2023-01-20 21:45:00 2023-01-20 21:59:59.999  22075.704480\n",
       "184 2023-01-20 22:00:00 2023-01-20 22:14:59.999  22155.729763\n",
       "185 2023-01-20 22:15:00 2023-01-20 22:29:59.999  22247.701926\n",
       "186 2023-01-20 22:30:00 2023-01-20 22:44:59.999  22339.042077\n",
       "187 2023-01-20 22:45:00 2023-01-20 22:59:59.999  22418.205302\n",
       "188 2023-01-20 23:00:00 2023-01-20 23:14:59.999  22496.443445\n",
       "189 2023-01-20 23:15:00 2023-01-20 23:29:59.999  22567.265257\n",
       "190 2023-01-20 23:30:00 2023-01-20 23:44:59.999  22633.613690\n",
       "191 2023-01-20 23:45:00 2023-01-20 23:59:59.999  22691.651051"
      ]
     },
     "execution_count": 10,
     "metadata": {},
     "output_type": "execute_result"
    },
    {
     "data": {
      "application/javascript": [
       "\n",
       "            setTimeout(function() {\n",
       "                var nbb_cell_id = 10;\n",
       "                var nbb_unformatted_code = \"eq = lsma - lsma2\\nzlsma = lsma + eq\\ndata[\\\"zlsma\\\"] = zlsma\\ndata[[\\\"Open time\\\", \\\"Close time\\\", \\\"zlsma\\\"]].tail(10)\";\n",
       "                var nbb_formatted_code = \"eq = lsma - lsma2\\nzlsma = lsma + eq\\ndata[\\\"zlsma\\\"] = zlsma\\ndata[[\\\"Open time\\\", \\\"Close time\\\", \\\"zlsma\\\"]].tail(10)\";\n",
       "                var nbb_cells = Jupyter.notebook.get_cells();\n",
       "                for (var i = 0; i < nbb_cells.length; ++i) {\n",
       "                    if (nbb_cells[i].input_prompt_number == nbb_cell_id) {\n",
       "                        if (nbb_cells[i].get_text() == nbb_unformatted_code) {\n",
       "                             nbb_cells[i].set_text(nbb_formatted_code);\n",
       "                        }\n",
       "                        break;\n",
       "                    }\n",
       "                }\n",
       "            }, 500);\n",
       "            "
      ],
      "text/plain": [
       "<IPython.core.display.Javascript object>"
      ]
     },
     "metadata": {},
     "output_type": "display_data"
    }
   ],
   "source": [
    "eq = lsma - lsma2\n",
    "zlsma = lsma + eq\n",
    "data[\"zlsma\"] = zlsma\n",
    "data[[\"Open time\", \"Close time\", \"zlsma\"]].tail(10)"
   ]
  },
  {
   "cell_type": "code",
   "execution_count": 11,
   "id": "noble-davis",
   "metadata": {},
   "outputs": [
    {
     "data": {
      "image/png": "[encoded data removed]",
      "text/plain": [
       "<Figure size 1152x360 with 1 Axes>"
      ]
     },
     "metadata": {},
     "output_type": "display_data"
    },
    {
     "data": {
      "application/javascript": [
       "\n",
       "            setTimeout(function() {\n",
       "                var nbb_cell_id = 11;\n",
       "                var nbb_unformatted_code = \"plt.figure(figsize=(16, 5))\\nplt.plot(range(192), zlsma, color=\\\"g\\\")\\nplt.show()\";\n",
       "                var nbb_formatted_code = \"plt.figure(figsize=(16, 5))\\nplt.plot(range(192), zlsma, color=\\\"g\\\")\\nplt.show()\";\n",
       "                var nbb_cells = Jupyter.notebook.get_cells();\n",
       "                for (var i = 0; i < nbb_cells.length; ++i) {\n",
       "                    if (nbb_cells[i].input_prompt_number == nbb_cell_id) {\n",
       "                        if (nbb_cells[i].get_text() == nbb_unformatted_code) {\n",
       "                             nbb_cells[i].set_text(nbb_formatted_code);\n",
       "                        }\n",
       "                        break;\n",
       "                    }\n",
       "                }\n",
       "            }, 500);\n",
       "            "
      ],
      "text/plain": [
       "<IPython.core.display.Javascript object>"
      ]
     },
     "metadata": {},
     "output_type": "display_data"
    }
   ],
   "source": [
    "plt.figure(figsize=(16, 5))\n",
    "plt.plot(range(192), zlsma, color=\"g\")\n",
    "plt.show()"
   ]
  },
  {
   "cell_type": "code",
   "execution_count": 12,
   "id": "thermal-encoding",
   "metadata": {},
   "outputs": [
    {
     "data": {
      "application/javascript": [
       "\n",
       "            setTimeout(function() {\n",
       "                var nbb_cell_id = 12;\n",
       "                var nbb_unformatted_code = \"# Install a pip package in the current Jupyter kernel\\n# import sys\\n\\n# !{sys.executable} -m pip install -U python-dotenv\";\n",
       "                var nbb_formatted_code = \"# Install a pip package in the current Jupyter kernel\\n# import sys\\n\\n# !{sys.executable} -m pip install -U python-dotenv\";\n",
       "                var nbb_cells = Jupyter.notebook.get_cells();\n",
       "                for (var i = 0; i < nbb_cells.length; ++i) {\n",
       "                    if (nbb_cells[i].input_prompt_number == nbb_cell_id) {\n",
       "                        if (nbb_cells[i].get_text() == nbb_unformatted_code) {\n",
       "                             nbb_cells[i].set_text(nbb_formatted_code);\n",
       "                        }\n",
       "                        break;\n",
       "                    }\n",
       "                }\n",
       "            }, 500);\n",
       "            "
      ],
      "text/plain": [
       "<IPython.core.display.Javascript object>"
      ]
     },
     "metadata": {},
     "output_type": "display_data"
    }
   ],
   "source": [
    "# Install a pip package in the current Jupyter kernel\n",
    "# import sys\n",
    "\n",
    "# !{sys.executable} -m pip install -U python-dotenv"
   ]
  },
  {
   "cell_type": "code",
   "execution_count": 13,
   "id": "classified-witch",
   "metadata": {},
   "outputs": [
    {
     "data": {
      "application/javascript": [
       "\n",
       "            setTimeout(function() {\n",
       "                var nbb_cell_id = 13;\n",
       "                var nbb_unformatted_code = \"import os\\nfrom os import environ as env\\nfrom dotenv import load_dotenv\\nfrom binance import Client, ThreadedWebsocketManager, ThreadedDepthCacheManager\";\n",
       "                var nbb_formatted_code = \"import os\\nfrom os import environ as env\\nfrom dotenv import load_dotenv\\nfrom binance import Client, ThreadedWebsocketManager, ThreadedDepthCacheManager\";\n",
       "                var nbb_cells = Jupyter.notebook.get_cells();\n",
       "                for (var i = 0; i < nbb_cells.length; ++i) {\n",
       "                    if (nbb_cells[i].input_prompt_number == nbb_cell_id) {\n",
       "                        if (nbb_cells[i].get_text() == nbb_unformatted_code) {\n",
       "                             nbb_cells[i].set_text(nbb_formatted_code);\n",
       "                        }\n",
       "                        break;\n",
       "                    }\n",
       "                }\n",
       "            }, 500);\n",
       "            "
      ],
      "text/plain": [
       "<IPython.core.display.Javascript object>"
      ]
     },
     "metadata": {},
     "output_type": "display_data"
    }
   ],
   "source": [
    "import os\n",
    "from os import environ as env\n",
    "from dotenv import load_dotenv\n",
    "from binance import Client, ThreadedWebsocketManager, ThreadedDepthCacheManager"
   ]
  },
  {
   "cell_type": "code",
   "execution_count": 14,
   "id": "handled-center",
   "metadata": {},
   "outputs": [
    {
     "data": {
      "application/javascript": [
       "\n",
       "            setTimeout(function() {\n",
       "                var nbb_cell_id = 14;\n",
       "                var nbb_unformatted_code = \"project_dotenv = os.path.join(os.path.abspath(''), '.env')\\nif os.path.exists(project_dotenv):\\n    load_dotenv(project_dotenv)\";\n",
       "                var nbb_formatted_code = \"project_dotenv = os.path.join(os.path.abspath(\\\"\\\"), \\\".env\\\")\\nif os.path.exists(project_dotenv):\\n    load_dotenv(project_dotenv)\";\n",
       "                var nbb_cells = Jupyter.notebook.get_cells();\n",
       "                for (var i = 0; i < nbb_cells.length; ++i) {\n",
       "                    if (nbb_cells[i].input_prompt_number == nbb_cell_id) {\n",
       "                        if (nbb_cells[i].get_text() == nbb_unformatted_code) {\n",
       "                             nbb_cells[i].set_text(nbb_formatted_code);\n",
       "                        }\n",
       "                        break;\n",
       "                    }\n",
       "                }\n",
       "            }, 500);\n",
       "            "
      ],
      "text/plain": [
       "<IPython.core.display.Javascript object>"
      ]
     },
     "metadata": {},
     "output_type": "display_data"
    }
   ],
   "source": [
    "project_dotenv = os.path.join(os.path.abspath(\"\"), \".env\")\n",
    "if os.path.exists(project_dotenv):\n",
    "    load_dotenv(project_dotenv)"
   ]
  },
  {
   "cell_type": "code",
   "execution_count": 15,
   "id": "alone-shore",
   "metadata": {},
   "outputs": [
    {
     "data": {
      "application/javascript": [
       "\n",
       "            setTimeout(function() {\n",
       "                var nbb_cell_id = 15;\n",
       "                var nbb_unformatted_code = \"api_key, api_secret = env.get('ENV_API_KEY'), env.get('ENV_SECRET_KEY')\\nclient = Client(api_key, api_secret)\";\n",
       "                var nbb_formatted_code = \"api_key, api_secret = env.get(\\\"ENV_API_KEY\\\"), env.get(\\\"ENV_SECRET_KEY\\\")\\nclient = Client(api_key, api_secret)\";\n",
       "                var nbb_cells = Jupyter.notebook.get_cells();\n",
       "                for (var i = 0; i < nbb_cells.length; ++i) {\n",
       "                    if (nbb_cells[i].input_prompt_number == nbb_cell_id) {\n",
       "                        if (nbb_cells[i].get_text() == nbb_unformatted_code) {\n",
       "                             nbb_cells[i].set_text(nbb_formatted_code);\n",
       "                        }\n",
       "                        break;\n",
       "                    }\n",
       "                }\n",
       "            }, 500);\n",
       "            "
      ],
      "text/plain": [
       "<IPython.core.display.Javascript object>"
      ]
     },
     "metadata": {},
     "output_type": "display_data"
    }
   ],
   "source": [
    "api_key, api_secret = env.get(\"ENV_API_KEY\"), env.get(\"ENV_SECRET_KEY\")\n",
    "client = Client(api_key, api_secret)"
   ]
  },
  {
   "cell_type": "code",
   "execution_count": 16,
   "id": "nuclear-return",
   "metadata": {},
   "outputs": [
    {
     "data": {
      "application/javascript": [
       "\n",
       "            setTimeout(function() {\n",
       "                var nbb_cell_id = 16;\n",
       "                var nbb_unformatted_code = \"klines = client.get_klines(symbol='BTCUSDT', interval=Client.KLINE_INTERVAL_15MINUTE)\";\n",
       "                var nbb_formatted_code = \"klines = client.get_klines(symbol=\\\"BTCUSDT\\\", interval=Client.KLINE_INTERVAL_15MINUTE)\";\n",
       "                var nbb_cells = Jupyter.notebook.get_cells();\n",
       "                for (var i = 0; i < nbb_cells.length; ++i) {\n",
       "                    if (nbb_cells[i].input_prompt_number == nbb_cell_id) {\n",
       "                        if (nbb_cells[i].get_text() == nbb_unformatted_code) {\n",
       "                             nbb_cells[i].set_text(nbb_formatted_code);\n",
       "                        }\n",
       "                        break;\n",
       "                    }\n",
       "                }\n",
       "            }, 500);\n",
       "            "
      ],
      "text/plain": [
       "<IPython.core.display.Javascript object>"
      ]
     },
     "metadata": {},
     "output_type": "display_data"
    }
   ],
   "source": [
    "klines = client.get_klines(symbol=\"BTCUSDT\", interval=Client.KLINE_INTERVAL_15MINUTE)"
   ]
  },
  {
   "cell_type": "code",
   "execution_count": 20,
   "id": "mental-bowling",
   "metadata": {},
   "outputs": [
    {
     "data": {
      "text/html": [
       "<div>\n",
       "<style scoped>\n",
       "    .dataframe tbody tr th:only-of-type {\n",
       "        vertical-align: middle;\n",
       "    }\n",
       "\n",
       "    .dataframe tbody tr th {\n",
       "        vertical-align: top;\n",
       "    }\n",
       "\n",
       "    .dataframe thead th {\n",
       "        text-align: right;\n",
       "    }\n",
       "</style>\n",
       "<table border=\"1\" class=\"dataframe\">\n",
       "  <thead>\n",
       "    <tr style=\"text-align: right;\">\n",
       "      <th></th>\n",
       "      <th>open_time</th>\n",
       "      <th>open</th>\n",
       "      <th>high</th>\n",
       "      <th>low</th>\n",
       "      <th>close</th>\n",
       "      <th>volume</th>\n",
       "      <th>close_time</th>\n",
       "      <th>qav</th>\n",
       "      <th>num_trades</th>\n",
       "      <th>taker_base_vol</th>\n",
       "      <th>taker_quote_vol</th>\n",
       "      <th>ignore</th>\n",
       "    </tr>\n",
       "  </thead>\n",
       "  <tbody>\n",
       "    <tr>\n",
       "      <th>0</th>\n",
       "      <td>2023-01-18 10:45:00</td>\n",
       "      <td>21192.18000000</td>\n",
       "      <td>21210.00000000</td>\n",
       "      <td>21164.51000000</td>\n",
       "      <td>21183.83000000</td>\n",
       "      <td>1918.95079000</td>\n",
       "      <td>2023-01-18 10:59:59.999</td>\n",
       "      <td>40668251.60883070</td>\n",
       "      <td>57113</td>\n",
       "      <td>969.57549000</td>\n",
       "      <td>20549547.42089480</td>\n",
       "      <td>0</td>\n",
       "    </tr>\n",
       "    <tr>\n",
       "      <th>1</th>\n",
       "      <td>2023-01-18 11:00:00</td>\n",
       "      <td>21183.02000000</td>\n",
       "      <td>21214.07000000</td>\n",
       "      <td>21172.90000000</td>\n",
       "      <td>21212.08000000</td>\n",
       "      <td>1749.67672000</td>\n",
       "      <td>2023-01-18 11:14:59.999</td>\n",
       "      <td>37084883.39819170</td>\n",
       "      <td>55011</td>\n",
       "      <td>911.82670000</td>\n",
       "      <td>19327371.17621450</td>\n",
       "      <td>0</td>\n",
       "    </tr>\n",
       "    <tr>\n",
       "      <th>2</th>\n",
       "      <td>2023-01-18 11:15:00</td>\n",
       "      <td>21212.76000000</td>\n",
       "      <td>21222.74000000</td>\n",
       "      <td>21186.76000000</td>\n",
       "      <td>21210.39000000</td>\n",
       "      <td>1812.40149000</td>\n",
       "      <td>2023-01-18 11:29:59.999</td>\n",
       "      <td>38432052.01920990</td>\n",
       "      <td>51810</td>\n",
       "      <td>920.68260000</td>\n",
       "      <td>19523188.37965800</td>\n",
       "      <td>0</td>\n",
       "    </tr>\n",
       "    <tr>\n",
       "      <th>3</th>\n",
       "      <td>2023-01-18 11:30:00</td>\n",
       "      <td>21209.88000000</td>\n",
       "      <td>21237.47000000</td>\n",
       "      <td>21196.04000000</td>\n",
       "      <td>21220.21000000</td>\n",
       "      <td>1859.20325000</td>\n",
       "      <td>2023-01-18 11:44:59.999</td>\n",
       "      <td>39447192.41039640</td>\n",
       "      <td>50928</td>\n",
       "      <td>945.61717000</td>\n",
       "      <td>20064197.17749020</td>\n",
       "      <td>0</td>\n",
       "    </tr>\n",
       "    <tr>\n",
       "      <th>4</th>\n",
       "      <td>2023-01-18 11:45:00</td>\n",
       "      <td>21220.21000000</td>\n",
       "      <td>21224.29000000</td>\n",
       "      <td>21197.14000000</td>\n",
       "      <td>21204.67000000</td>\n",
       "      <td>1582.90133000</td>\n",
       "      <td>2023-01-18 11:59:59.999</td>\n",
       "      <td>33575593.42750440</td>\n",
       "      <td>45304</td>\n",
       "      <td>764.25734000</td>\n",
       "      <td>16211253.32034300</td>\n",
       "      <td>0</td>\n",
       "    </tr>\n",
       "    <tr>\n",
       "      <th>...</th>\n",
       "      <td>...</td>\n",
       "      <td>...</td>\n",
       "      <td>...</td>\n",
       "      <td>...</td>\n",
       "      <td>...</td>\n",
       "      <td>...</td>\n",
       "      <td>...</td>\n",
       "      <td>...</td>\n",
       "      <td>...</td>\n",
       "      <td>...</td>\n",
       "      <td>...</td>\n",
       "      <td>...</td>\n",
       "    </tr>\n",
       "    <tr>\n",
       "      <th>495</th>\n",
       "      <td>2023-01-23 14:30:00</td>\n",
       "      <td>22793.63000000</td>\n",
       "      <td>22821.29000000</td>\n",
       "      <td>22734.43000000</td>\n",
       "      <td>22803.53000000</td>\n",
       "      <td>5367.24961000</td>\n",
       "      <td>2023-01-23 14:44:59.999</td>\n",
       "      <td>122205912.42263360</td>\n",
       "      <td>121017</td>\n",
       "      <td>2757.33985000</td>\n",
       "      <td>62784699.42795800</td>\n",
       "      <td>0</td>\n",
       "    </tr>\n",
       "    <tr>\n",
       "      <th>496</th>\n",
       "      <td>2023-01-23 14:45:00</td>\n",
       "      <td>22801.73000000</td>\n",
       "      <td>23115.00000000</td>\n",
       "      <td>22500.00000000</td>\n",
       "      <td>22622.05000000</td>\n",
       "      <td>12844.34869000</td>\n",
       "      <td>2023-01-23 14:59:59.999</td>\n",
       "      <td>293503733.20322160</td>\n",
       "      <td>228426</td>\n",
       "      <td>6372.49396000</td>\n",
       "      <td>145696015.37924500</td>\n",
       "      <td>0</td>\n",
       "    </tr>\n",
       "    <tr>\n",
       "      <th>497</th>\n",
       "      <td>2023-01-23 15:00:00</td>\n",
       "      <td>22627.71000000</td>\n",
       "      <td>22799.00000000</td>\n",
       "      <td>22586.68000000</td>\n",
       "      <td>22775.00000000</td>\n",
       "      <td>11045.25383000</td>\n",
       "      <td>2023-01-23 15:14:59.999</td>\n",
       "      <td>250701975.58111110</td>\n",
       "      <td>193992</td>\n",
       "      <td>5633.32324000</td>\n",
       "      <td>127870798.40533600</td>\n",
       "      <td>0</td>\n",
       "    </tr>\n",
       "    <tr>\n",
       "      <th>498</th>\n",
       "      <td>2023-01-23 15:15:00</td>\n",
       "      <td>22774.37000000</td>\n",
       "      <td>22873.37000000</td>\n",
       "      <td>22737.49000000</td>\n",
       "      <td>22864.28000000</td>\n",
       "      <td>5691.22522000</td>\n",
       "      <td>2023-01-23 15:29:59.999</td>\n",
       "      <td>129813214.54945950</td>\n",
       "      <td>129992</td>\n",
       "      <td>2909.18484000</td>\n",
       "      <td>66360936.27142760</td>\n",
       "      <td>0</td>\n",
       "    </tr>\n",
       "    <tr>\n",
       "      <th>499</th>\n",
       "      <td>2023-01-23 15:30:00</td>\n",
       "      <td>22862.02000000</td>\n",
       "      <td>22899.99000000</td>\n",
       "      <td>22809.74000000</td>\n",
       "      <td>22829.28000000</td>\n",
       "      <td>3138.94296000</td>\n",
       "      <td>2023-01-23 15:44:59.999</td>\n",
       "      <td>71749462.01325400</td>\n",
       "      <td>69349</td>\n",
       "      <td>1528.57754000</td>\n",
       "      <td>34941181.95969060</td>\n",
       "      <td>0</td>\n",
       "    </tr>\n",
       "  </tbody>\n",
       "</table>\n",
       "<p>500 rows × 12 columns</p>\n",
       "</div>"
      ],
      "text/plain": [
       "              open_time            open            high             low  \\\n",
       "0   2023-01-18 10:45:00  21192.18000000  21210.00000000  21164.51000000   \n",
       "1   2023-01-18 11:00:00  21183.02000000  21214.07000000  21172.90000000   \n",
       "2   2023-01-18 11:15:00  21212.76000000  21222.74000000  21186.76000000   \n",
       "3   2023-01-18 11:30:00  21209.88000000  21237.47000000  21196.04000000   \n",
       "4   2023-01-18 11:45:00  21220.21000000  21224.29000000  21197.14000000   \n",
       "..                  ...             ...             ...             ...   \n",
       "495 2023-01-23 14:30:00  22793.63000000  22821.29000000  22734.43000000   \n",
       "496 2023-01-23 14:45:00  22801.73000000  23115.00000000  22500.00000000   \n",
       "497 2023-01-23 15:00:00  22627.71000000  22799.00000000  22586.68000000   \n",
       "498 2023-01-23 15:15:00  22774.37000000  22873.37000000  22737.49000000   \n",
       "499 2023-01-23 15:30:00  22862.02000000  22899.99000000  22809.74000000   \n",
       "\n",
       "              close          volume              close_time  \\\n",
       "0    21183.83000000   1918.95079000 2023-01-18 10:59:59.999   \n",
       "1    21212.08000000   1749.67672000 2023-01-18 11:14:59.999   \n",
       "2    21210.39000000   1812.40149000 2023-01-18 11:29:59.999   \n",
       "3    21220.21000000   1859.20325000 2023-01-18 11:44:59.999   \n",
       "4    21204.67000000   1582.90133000 2023-01-18 11:59:59.999   \n",
       "..              ...             ...                     ...   \n",
       "495  22803.53000000   5367.24961000 2023-01-23 14:44:59.999   \n",
       "496  22622.05000000  12844.34869000 2023-01-23 14:59:59.999   \n",
       "497  22775.00000000  11045.25383000 2023-01-23 15:14:59.999   \n",
       "498  22864.28000000   5691.22522000 2023-01-23 15:29:59.999   \n",
       "499  22829.28000000   3138.94296000 2023-01-23 15:44:59.999   \n",
       "\n",
       "                    qav  num_trades taker_base_vol     taker_quote_vol ignore  \n",
       "0     40668251.60883070       57113   969.57549000   20549547.42089480      0  \n",
       "1     37084883.39819170       55011   911.82670000   19327371.17621450      0  \n",
       "2     38432052.01920990       51810   920.68260000   19523188.37965800      0  \n",
       "3     39447192.41039640       50928   945.61717000   20064197.17749020      0  \n",
       "4     33575593.42750440       45304   764.25734000   16211253.32034300      0  \n",
       "..                  ...         ...            ...                 ...    ...  \n",
       "495  122205912.42263360      121017  2757.33985000   62784699.42795800      0  \n",
       "496  293503733.20322160      228426  6372.49396000  145696015.37924500      0  \n",
       "497  250701975.58111110      193992  5633.32324000  127870798.40533600      0  \n",
       "498  129813214.54945950      129992  2909.18484000   66360936.27142760      0  \n",
       "499   71749462.01325400       69349  1528.57754000   34941181.95969060      0  \n",
       "\n",
       "[500 rows x 12 columns]"
      ]
     },
     "execution_count": 20,
     "metadata": {},
     "output_type": "execute_result"
    },
    {
     "data": {
      "application/javascript": [
       "\n",
       "            setTimeout(function() {\n",
       "                var nbb_cell_id = 20;\n",
       "                var nbb_unformatted_code = \"kdf = pd.DataFrame(klines, columns=short_col_names)\\nkdf[\\\"open_time\\\"] = pd.to_datetime(kdf[\\\"open_time\\\"], unit=\\\"ms\\\")\\nkdf[\\\"close_time\\\"] = pd.to_datetime(kdf[\\\"close_time\\\"], unit=\\\"ms\\\")\\nkdf\";\n",
       "                var nbb_formatted_code = \"kdf = pd.DataFrame(klines, columns=short_col_names)\\nkdf[\\\"open_time\\\"] = pd.to_datetime(kdf[\\\"open_time\\\"], unit=\\\"ms\\\")\\nkdf[\\\"close_time\\\"] = pd.to_datetime(kdf[\\\"close_time\\\"], unit=\\\"ms\\\")\\nkdf\";\n",
       "                var nbb_cells = Jupyter.notebook.get_cells();\n",
       "                for (var i = 0; i < nbb_cells.length; ++i) {\n",
       "                    if (nbb_cells[i].input_prompt_number == nbb_cell_id) {\n",
       "                        if (nbb_cells[i].get_text() == nbb_unformatted_code) {\n",
       "                             nbb_cells[i].set_text(nbb_formatted_code);\n",
       "                        }\n",
       "                        break;\n",
       "                    }\n",
       "                }\n",
       "            }, 500);\n",
       "            "
      ],
      "text/plain": [
       "<IPython.core.display.Javascript object>"
      ]
     },
     "metadata": {},
     "output_type": "display_data"
    }
   ],
   "source": [
    "kdf = pd.DataFrame(klines, columns=short_col_names)\n",
    "kdf[\"open_time\"] = pd.to_datetime(kdf[\"open_time\"], unit=\"ms\")\n",
    "kdf[\"close_time\"] = pd.to_datetime(kdf[\"close_time\"], unit=\"ms\")\n",
    "kdf"
   ]
  },
  {
   "cell_type": "code",
   "execution_count": null,
   "id": "appreciated-portsmouth",
   "metadata": {},
   "outputs": [],
   "source": []
  }
 ],
 "metadata": {
  "kernelspec": {
   "display_name": "venv",
   "language": "python",
   "name": "venv"
  },
  "language_info": {
   "codemirror_mode": {
    "name": "ipython",
    "version": 3
   },
   "file_extension": ".py",
   "mimetype": "text/x-python",
   "name": "python",
   "nbconvert_exporter": "python",
   "pygments_lexer": "ipython3",
   "version": "3.6.13"
  }
 },
 "nbformat": 4,
 "nbformat_minor": 5
}
