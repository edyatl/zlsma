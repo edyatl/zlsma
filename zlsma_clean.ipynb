{
 "cells": [
  {
   "cell_type": "markdown",
   "id": "abstract-cooking",
   "metadata": {},
   "source": [
    "## Python porting of ZLSMA - Zero Lag LSMA by veryfid (clean copy)"
   ]
  },
  {
   "cell_type": "markdown",
   "id": "charming-platinum",
   "metadata": {},
   "source": [
    "<https://ru.tradingview.com/script/3LGnSrQN-ZLSMA-Zero-Lag-LSMA/>"
   ]
  },
  {
   "cell_type": "markdown",
   "id": "inappropriate-looking",
   "metadata": {},
   "source": [
    ">Developed by [@edyatl](https://github.com/edyatl) January 2023 <edyatl@yandex.ru>"
   ]
  },
  {
   "cell_type": "code",
   "execution_count": 1,
   "id": "conservative-broadcast",
   "metadata": {},
   "outputs": [],
   "source": [
    "# Standard imports\n",
    "import pandas as pd\n",
    "import numpy as np\n",
    "import matplotlib.pyplot as plt\n",
    "import seaborn as sns\n",
    "import talib as tl\n",
    "\n",
    "# Nicest style for  plots\n",
    "sns.set(style=\"ticks\")"
   ]
  },
  {
   "cell_type": "markdown",
   "id": "restricted-equilibrium",
   "metadata": {},
   "source": [
    "### Original Indicator code\n",
    "\n",
    "```python\n",
    "study(title = \"ZLSMA - Zero Lag LSMA\", shorttitle=\"ZLSMA\", overlay=true, resolution=\"\")\n",
    "length = input(title=\"Length\", type=input.integer, defval=32)\n",
    "offset = input(title=\"Offset\", type=input.integer, defval=0)\n",
    "src = input(close, title=\"Source\")\n",
    "lsma = linreg(src, length, offset)\n",
    "lsma2 = linreg(lsma, length, offset)\n",
    "eq= lsma-lsma2\n",
    "zlsma = lsma+eq\n",
    "\n",
    "plot(zlsma, color=color.yellow, linewidth=3)\n",
    "```"
   ]
  },
  {
   "cell_type": "markdown",
   "id": "interesting-fiction",
   "metadata": {},
   "source": [
    "**formula:** `linreg = intercept + slope * (length - 1 - offset)`\n",
    "\n",
    "`linreg(source, length, offset) → series[float]`\n",
    "\n",
    "where \n",
    "* **length** is the y argument, \n",
    "* **offset** is the z argument, \n",
    "* **intercept** and **slope** are the values calculated with the least squares method on source series (x argument)"
   ]
  },
  {
   "cell_type": "markdown",
   "id": "handled-claim",
   "metadata": {},
   "source": [
    "Download [Dataset](https://data.binance.vision/?prefix=data/spot/daily/klines/BTCUSDT/) from Binance and unzip"
   ]
  },
  {
   "cell_type": "code",
   "execution_count": 2,
   "id": "bulgarian-saturn",
   "metadata": {},
   "outputs": [],
   "source": [
    "dataset_path = \"../\"\n",
    "short_col_names = [\n",
    "    \"open_time\",\n",
    "    \"open\",\n",
    "    \"high\",\n",
    "    \"low\",\n",
    "    \"close\",\n",
    "    \"volume\",\n",
    "    \"close_time\",\n",
    "    \"qav\",\n",
    "    \"num_trades\",\n",
    "    \"taker_base_vol\",\n",
    "    \"taker_quote_vol\",\n",
    "    \"ignore\",\n",
    "]"
   ]
  },
  {
   "cell_type": "code",
   "execution_count": 3,
   "id": "broadband-forward",
   "metadata": {},
   "outputs": [],
   "source": [
    "# Load Dataset\n",
    "data = pd.read_csv(\n",
    "    dataset_path + \"BTCUSDT-15m-2023-01-20.csv\",\n",
    "    names=short_col_names,\n",
    ")"
   ]
  },
  {
   "cell_type": "code",
   "execution_count": 4,
   "id": "touched-cycle",
   "metadata": {
    "scrolled": true
   },
   "outputs": [
    {
     "data": {
      "text/html": [
       "<div>\n",
       "<style scoped>\n",
       "    .dataframe tbody tr th:only-of-type {\n",
       "        vertical-align: middle;\n",
       "    }\n",
       "\n",
       "    .dataframe tbody tr th {\n",
       "        vertical-align: top;\n",
       "    }\n",
       "\n",
       "    .dataframe thead th {\n",
       "        text-align: right;\n",
       "    }\n",
       "</style>\n",
       "<table border=\"1\" class=\"dataframe\">\n",
       "  <thead>\n",
       "    <tr style=\"text-align: right;\">\n",
       "      <th></th>\n",
       "      <th>open_time</th>\n",
       "      <th>open</th>\n",
       "      <th>high</th>\n",
       "      <th>low</th>\n",
       "      <th>close</th>\n",
       "      <th>volume</th>\n",
       "      <th>close_time</th>\n",
       "      <th>qav</th>\n",
       "      <th>num_trades</th>\n",
       "      <th>taker_base_vol</th>\n",
       "      <th>taker_quote_vol</th>\n",
       "      <th>ignore</th>\n",
       "    </tr>\n",
       "  </thead>\n",
       "  <tbody>\n",
       "    <tr>\n",
       "      <th>0</th>\n",
       "      <td>2023-01-20 00:00:00</td>\n",
       "      <td>21071.59</td>\n",
       "      <td>21098.00</td>\n",
       "      <td>21048.70</td>\n",
       "      <td>21060.63</td>\n",
       "      <td>2469.02977</td>\n",
       "      <td>2023-01-20 00:14:59.999</td>\n",
       "      <td>5.202850e+07</td>\n",
       "      <td>68960</td>\n",
       "      <td>1192.43392</td>\n",
       "      <td>2.512823e+07</td>\n",
       "      <td>0</td>\n",
       "    </tr>\n",
       "    <tr>\n",
       "      <th>1</th>\n",
       "      <td>2023-01-20 00:15:00</td>\n",
       "      <td>21060.63</td>\n",
       "      <td>21113.32</td>\n",
       "      <td>21032.72</td>\n",
       "      <td>21102.38</td>\n",
       "      <td>2616.60449</td>\n",
       "      <td>2023-01-20 00:29:59.999</td>\n",
       "      <td>5.512145e+07</td>\n",
       "      <td>68162</td>\n",
       "      <td>1362.11721</td>\n",
       "      <td>2.869626e+07</td>\n",
       "      <td>0</td>\n",
       "    </tr>\n",
       "    <tr>\n",
       "      <th>2</th>\n",
       "      <td>2023-01-20 00:30:00</td>\n",
       "      <td>21103.22</td>\n",
       "      <td>21121.42</td>\n",
       "      <td>21050.24</td>\n",
       "      <td>21061.88</td>\n",
       "      <td>2358.03935</td>\n",
       "      <td>2023-01-20 00:44:59.999</td>\n",
       "      <td>4.970823e+07</td>\n",
       "      <td>64940</td>\n",
       "      <td>1140.56469</td>\n",
       "      <td>2.404463e+07</td>\n",
       "      <td>0</td>\n",
       "    </tr>\n",
       "    <tr>\n",
       "      <th>3</th>\n",
       "      <td>2023-01-20 00:45:00</td>\n",
       "      <td>21061.88</td>\n",
       "      <td>21073.35</td>\n",
       "      <td>21028.95</td>\n",
       "      <td>21054.74</td>\n",
       "      <td>1951.29264</td>\n",
       "      <td>2023-01-20 00:59:59.999</td>\n",
       "      <td>4.106924e+07</td>\n",
       "      <td>54532</td>\n",
       "      <td>971.54621</td>\n",
       "      <td>2.044873e+07</td>\n",
       "      <td>0</td>\n",
       "    </tr>\n",
       "    <tr>\n",
       "      <th>4</th>\n",
       "      <td>2023-01-20 01:00:00</td>\n",
       "      <td>21054.02</td>\n",
       "      <td>21063.54</td>\n",
       "      <td>21013.96</td>\n",
       "      <td>21061.42</td>\n",
       "      <td>2132.88842</td>\n",
       "      <td>2023-01-20 01:14:59.999</td>\n",
       "      <td>4.486771e+07</td>\n",
       "      <td>54574</td>\n",
       "      <td>1065.50163</td>\n",
       "      <td>2.241487e+07</td>\n",
       "      <td>0</td>\n",
       "    </tr>\n",
       "  </tbody>\n",
       "</table>\n",
       "</div>"
      ],
      "text/plain": [
       "            open_time      open      high       low     close      volume  \\\n",
       "0 2023-01-20 00:00:00  21071.59  21098.00  21048.70  21060.63  2469.02977   \n",
       "1 2023-01-20 00:15:00  21060.63  21113.32  21032.72  21102.38  2616.60449   \n",
       "2 2023-01-20 00:30:00  21103.22  21121.42  21050.24  21061.88  2358.03935   \n",
       "3 2023-01-20 00:45:00  21061.88  21073.35  21028.95  21054.74  1951.29264   \n",
       "4 2023-01-20 01:00:00  21054.02  21063.54  21013.96  21061.42  2132.88842   \n",
       "\n",
       "               close_time           qav  num_trades  taker_base_vol  \\\n",
       "0 2023-01-20 00:14:59.999  5.202850e+07       68960      1192.43392   \n",
       "1 2023-01-20 00:29:59.999  5.512145e+07       68162      1362.11721   \n",
       "2 2023-01-20 00:44:59.999  4.970823e+07       64940      1140.56469   \n",
       "3 2023-01-20 00:59:59.999  4.106924e+07       54532       971.54621   \n",
       "4 2023-01-20 01:14:59.999  4.486771e+07       54574      1065.50163   \n",
       "\n",
       "   taker_quote_vol  ignore  \n",
       "0     2.512823e+07       0  \n",
       "1     2.869626e+07       0  \n",
       "2     2.404463e+07       0  \n",
       "3     2.044873e+07       0  \n",
       "4     2.241487e+07       0  "
      ]
     },
     "execution_count": 4,
     "metadata": {},
     "output_type": "execute_result"
    }
   ],
   "source": [
    "data[\"open_time\"] = pd.to_datetime(data[\"open_time\"], unit=\"ms\")\n",
    "data[\"close_time\"] = pd.to_datetime(data[\"close_time\"], unit=\"ms\")\n",
    "data.head()"
   ]
  },
  {
   "cell_type": "code",
   "execution_count": 5,
   "id": "naked-enclosure",
   "metadata": {},
   "outputs": [],
   "source": [
    "length: int = 32  # 32\n",
    "offset: int = 10\n",
    "src: pd.Series = data[\"close\"]"
   ]
  },
  {
   "cell_type": "markdown",
   "id": "elect-catholic",
   "metadata": {},
   "source": [
    "### Using [Python wrapper](https://github.com/TA-Lib/ta-lib-python) for [TA-LIB](http://ta-lib.org/) based on Cython instead of SWIG."
   ]
  },
  {
   "cell_type": "code",
   "execution_count": 6,
   "id": "greatest-jewelry",
   "metadata": {},
   "outputs": [],
   "source": [
    "def linreg(src: pd.Series, length: int = None, offset: int = None) -> pd.Series:\n",
    "    \"\"\"Indicator: Linear Regression with TA-LIB module\"\"\"\n",
    "    # Validate arguments\n",
    "    src = None if src.size < length or not isinstance(src, pd.Series) else src\n",
    "    length = int(length) if isinstance(length, int) and length > 0 else 32\n",
    "    offset = int(offset) if isinstance(offset, int) else 0\n",
    "\n",
    "    # Offset\n",
    "    if offset != 0:\n",
    "        # linreg = intercept + slope * (length - 1 - offset)\n",
    "        return tl.LINEARREG_INTERCEPT(src, length) + tl.LINEARREG_SLOPE(src, length) * (\n",
    "            length - 1 - offset\n",
    "        )\n",
    "\n",
    "    return tl.LINEARREG(src, length)"
   ]
  },
  {
   "cell_type": "code",
   "execution_count": 7,
   "id": "unknown-monster",
   "metadata": {},
   "outputs": [],
   "source": [
    "lsma: pd.Series = linreg(src, length, offset) \n",
    "lsma2: pd.Series = linreg(lsma, length, offset)"
   ]
  },
  {
   "cell_type": "code",
   "execution_count": 8,
   "id": "disabled-material",
   "metadata": {},
   "outputs": [
    {
     "data": {
      "text/html": [
       "<div>\n",
       "<style scoped>\n",
       "    .dataframe tbody tr th:only-of-type {\n",
       "        vertical-align: middle;\n",
       "    }\n",
       "\n",
       "    .dataframe tbody tr th {\n",
       "        vertical-align: top;\n",
       "    }\n",
       "\n",
       "    .dataframe thead th {\n",
       "        text-align: right;\n",
       "    }\n",
       "</style>\n",
       "<table border=\"1\" class=\"dataframe\">\n",
       "  <thead>\n",
       "    <tr style=\"text-align: right;\">\n",
       "      <th></th>\n",
       "      <th>open_time</th>\n",
       "      <th>close_time</th>\n",
       "      <th>zlsma</th>\n",
       "    </tr>\n",
       "  </thead>\n",
       "  <tbody>\n",
       "    <tr>\n",
       "      <th>86</th>\n",
       "      <td>2023-01-20 21:30:00</td>\n",
       "      <td>2023-01-20 21:44:59.999</td>\n",
       "      <td>22000.504618</td>\n",
       "    </tr>\n",
       "    <tr>\n",
       "      <th>87</th>\n",
       "      <td>2023-01-20 21:45:00</td>\n",
       "      <td>2023-01-20 21:59:59.999</td>\n",
       "      <td>22075.704480</td>\n",
       "    </tr>\n",
       "    <tr>\n",
       "      <th>88</th>\n",
       "      <td>2023-01-20 22:00:00</td>\n",
       "      <td>2023-01-20 22:14:59.999</td>\n",
       "      <td>22155.729763</td>\n",
       "    </tr>\n",
       "    <tr>\n",
       "      <th>89</th>\n",
       "      <td>2023-01-20 22:15:00</td>\n",
       "      <td>2023-01-20 22:29:59.999</td>\n",
       "      <td>22247.701926</td>\n",
       "    </tr>\n",
       "    <tr>\n",
       "      <th>90</th>\n",
       "      <td>2023-01-20 22:30:00</td>\n",
       "      <td>2023-01-20 22:44:59.999</td>\n",
       "      <td>22339.042077</td>\n",
       "    </tr>\n",
       "    <tr>\n",
       "      <th>91</th>\n",
       "      <td>2023-01-20 22:45:00</td>\n",
       "      <td>2023-01-20 22:59:59.999</td>\n",
       "      <td>22418.205302</td>\n",
       "    </tr>\n",
       "    <tr>\n",
       "      <th>92</th>\n",
       "      <td>2023-01-20 23:00:00</td>\n",
       "      <td>2023-01-20 23:14:59.999</td>\n",
       "      <td>22496.443445</td>\n",
       "    </tr>\n",
       "    <tr>\n",
       "      <th>93</th>\n",
       "      <td>2023-01-20 23:15:00</td>\n",
       "      <td>2023-01-20 23:29:59.999</td>\n",
       "      <td>22567.265257</td>\n",
       "    </tr>\n",
       "    <tr>\n",
       "      <th>94</th>\n",
       "      <td>2023-01-20 23:30:00</td>\n",
       "      <td>2023-01-20 23:44:59.999</td>\n",
       "      <td>22633.613690</td>\n",
       "    </tr>\n",
       "    <tr>\n",
       "      <th>95</th>\n",
       "      <td>2023-01-20 23:45:00</td>\n",
       "      <td>2023-01-20 23:59:59.999</td>\n",
       "      <td>22691.651051</td>\n",
       "    </tr>\n",
       "  </tbody>\n",
       "</table>\n",
       "</div>"
      ],
      "text/plain": [
       "             open_time              close_time         zlsma\n",
       "86 2023-01-20 21:30:00 2023-01-20 21:44:59.999  22000.504618\n",
       "87 2023-01-20 21:45:00 2023-01-20 21:59:59.999  22075.704480\n",
       "88 2023-01-20 22:00:00 2023-01-20 22:14:59.999  22155.729763\n",
       "89 2023-01-20 22:15:00 2023-01-20 22:29:59.999  22247.701926\n",
       "90 2023-01-20 22:30:00 2023-01-20 22:44:59.999  22339.042077\n",
       "91 2023-01-20 22:45:00 2023-01-20 22:59:59.999  22418.205302\n",
       "92 2023-01-20 23:00:00 2023-01-20 23:14:59.999  22496.443445\n",
       "93 2023-01-20 23:15:00 2023-01-20 23:29:59.999  22567.265257\n",
       "94 2023-01-20 23:30:00 2023-01-20 23:44:59.999  22633.613690\n",
       "95 2023-01-20 23:45:00 2023-01-20 23:59:59.999  22691.651051"
      ]
     },
     "execution_count": 8,
     "metadata": {},
     "output_type": "execute_result"
    }
   ],
   "source": [
    "eq = lsma - lsma2\n",
    "zlsma = lsma + eq\n",
    "data[\"zlsma\"] = zlsma\n",
    "data[[\"open_time\", \"close_time\", \"zlsma\"]].tail(10)"
   ]
  },
  {
   "cell_type": "code",
   "execution_count": 9,
   "id": "noble-davis",
   "metadata": {},
   "outputs": [
    {
     "data": {
      "image/png": "[encoded data removed]",
      "text/plain": [
       "<Figure size 1152x360 with 1 Axes>"
      ]
     },
     "metadata": {},
     "output_type": "display_data"
    }
   ],
   "source": [
    "plt.figure(figsize=(16, 5))\n",
    "plt.plot(range(zlsma.size), zlsma, color=\"g\")\n",
    "plt.show()"
   ]
  },
  {
   "cell_type": "code",
   "execution_count": null,
   "id": "hispanic-interval",
   "metadata": {},
   "outputs": [],
   "source": []
  }
 ],
 "metadata": {
  "kernelspec": {
   "display_name": "venv",
   "language": "python",
   "name": "venv"
  },
  "language_info": {
   "codemirror_mode": {
    "name": "ipython",
    "version": 3
   },
   "file_extension": ".py",
   "mimetype": "text/x-python",
   "name": "python",
   "nbconvert_exporter": "python",
   "pygments_lexer": "ipython3",
   "version": "3.6.13"
  }
 },
 "nbformat": 4,
 "nbformat_minor": 5
}
